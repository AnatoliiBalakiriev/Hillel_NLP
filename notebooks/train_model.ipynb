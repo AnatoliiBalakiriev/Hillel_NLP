{
 "cells": [
  {
   "metadata": {
    "ExecuteTime": {
     "end_time": "2024-07-05T18:38:28.974820Z",
     "start_time": "2024-07-05T18:36:01.164152Z"
    }
   },
   "cell_type": "code",
   "source": [
    "import sys\n",
    "import os\n",
    "import logging\n",
    "from app.utils import train_model\n",
    "\n",
    "# Logging settings for Jupyter Notebook\n",
    "logging.basicConfig(level=logging.INFO, format='%(asctime)s - %(levelname)s - %(message)s')\n",
    "\n",
    "# Adding the project root directory to the path\n",
    "project_root = os.path.abspath(os.path.join(os.getcwd(), '..'))\n",
    "if project_root not in sys.path:\n",
    " sys.path.append(project_root)\n",
    "\n",
    "# Paths to data and model\n",
    "data_path = os.path.join(project_root, 'data', 'IMDB Dataset.csv')\n",
    "model_path = os.path.join(project_root, 'app', 'api', 'model.pkl')\n",
    "\n",
    "# Training the model\n",
    "accuracy = train_model(data_path, model_path)\n",
    "print('Accuracy:', accuracy)"
   ],
   "outputs": [
    {
     "name": "stderr",
     "output_type": "stream",
     "text": [
      "C:\\Users\\BalakirievAnatolii\\anaconda3\\Lib\\site-packages\\sklearn\\feature_extraction\\text.py:525: UserWarning: The parameter 'token_pattern' will not be used since 'tokenizer' is not None'\n",
      "  warnings.warn(\n"
     ]
    },
    {
     "name": "stdout",
     "output_type": "stream",
     "text": [
      "Accuracy: 0.8671\n"
     ]
    }
   ],
   "execution_count": 4
  },
  {
   "metadata": {},
   "cell_type": "code",
   "outputs": [],
   "execution_count": null,
   "source": ""
  }
 ],
 "metadata": {
  "kernelspec": {
   "display_name": "Python 3",
   "language": "python",
   "name": "python3"
  },
  "language_info": {
   "name": "python",
   "version": "3.12.3"
  }
 },
 "nbformat": 4,
 "nbformat_minor": 2
}
